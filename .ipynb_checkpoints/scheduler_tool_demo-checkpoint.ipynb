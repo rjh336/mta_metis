{
 "cells": [
  {
   "cell_type": "code",
   "execution_count": 13,
   "metadata": {
    "collapsed": true
   },
   "outputs": [],
   "source": [
    "import matplotlib.pyplot as plt\n",
    "%matplotlib inline\n",
    "import pandas as pd\n",
    "from copy import deepcopy\n",
    "from IPython.core.display import display, HTML"
   ]
  },
  {
   "cell_type": "code",
   "execution_count": 14,
   "metadata": {
    "collapsed": true
   },
   "outputs": [],
   "source": [
    "def top_ten_stations(df):\n",
    "    \n",
    "    df1 = df.groupby(['STATION', pd.Grouper(key='DATETIME', freq='1D')])\\\n",
    "    .sum()\\\n",
    "    .reset_index()\\\n",
    "    .groupby(['STATION'])\\\n",
    "    .mean()\\\n",
    "    .TOTAL_TRAFFIC\\\n",
    "    .sort_values(ascending=False)\n",
    "    stations = df1.reset_index().STATION.unique()[:10]\n",
    "    df2 = df[df.STATION.apply(lambda x: x in stations)][['STATION', 'DATETIME', 'TOTAL_TRAFFIC', 'DOW','TIME','BAD_WEATHER']]\n",
    "    return df2"
   ]
  },
  {
   "cell_type": "code",
   "execution_count": 15,
   "metadata": {},
   "outputs": [
    {
     "name": "stderr",
     "output_type": "stream",
     "text": [
      "/home/rjh336/anaconda2/envs/metis/lib/python3.5/site-packages/numpy/lib/arraysetops.py:463: FutureWarning: elementwise comparison failed; returning scalar instead, but in the future will perform elementwise comparison\n",
      "  mask |= (ar1 == a)\n"
     ]
    },
    {
     "name": "stdout",
     "output_type": "stream",
     "text": [
      "<class 'pandas.core.frame.DataFrame'>\n",
      "Int64Index: 1984948 entries, 0 to 1984947\n",
      "Data columns (total 16 columns):\n",
      "C/A              object\n",
      "UNIT             object\n",
      "SCP              object\n",
      "STATION          object\n",
      "DATETIME         datetime64[ns]\n",
      "DOW              object\n",
      "TIME             object\n",
      "TOTAL_TRAFFIC    float64\n",
      "DATE             object\n",
      "NAME             object\n",
      "PRCP             float64\n",
      "SNOW             float64\n",
      "SNWD             int64\n",
      "TMAX             int64\n",
      "TMIN             int64\n",
      "BAD_WEATHER      int64\n",
      "dtypes: datetime64[ns](1), float64(3), int64(4), object(8)\n",
      "memory usage: 196.9+ MB\n"
     ]
    }
   ],
   "source": [
    "df = pd.read_csv('./final_2017.csv', index_col=0)\n",
    "df['DATETIME'] = pd.to_datetime(df.DATETIME, \n",
    "                                    format=\"%Y/%m/%d %H:%M:%S\")\n",
    "df.info()"
   ]
  },
  {
   "cell_type": "code",
   "execution_count": 16,
   "metadata": {},
   "outputs": [
    {
     "data": {
      "text/html": [
       "<div>\n",
       "<style>\n",
       "    .dataframe thead tr:only-child th {\n",
       "        text-align: right;\n",
       "    }\n",
       "\n",
       "    .dataframe thead th {\n",
       "        text-align: left;\n",
       "    }\n",
       "\n",
       "    .dataframe tbody tr th {\n",
       "        vertical-align: top;\n",
       "    }\n",
       "</style>\n",
       "<table border=\"1\" class=\"dataframe\">\n",
       "  <thead>\n",
       "    <tr style=\"text-align: right;\">\n",
       "      <th></th>\n",
       "      <th>C/A</th>\n",
       "      <th>UNIT</th>\n",
       "      <th>SCP</th>\n",
       "      <th>STATION</th>\n",
       "      <th>DATETIME</th>\n",
       "      <th>DOW</th>\n",
       "      <th>TIME</th>\n",
       "      <th>TOTAL_TRAFFIC</th>\n",
       "      <th>DATE</th>\n",
       "      <th>NAME</th>\n",
       "      <th>PRCP</th>\n",
       "      <th>SNOW</th>\n",
       "      <th>SNWD</th>\n",
       "      <th>TMAX</th>\n",
       "      <th>TMIN</th>\n",
       "      <th>BAD_WEATHER</th>\n",
       "    </tr>\n",
       "  </thead>\n",
       "  <tbody>\n",
       "    <tr>\n",
       "      <th>0</th>\n",
       "      <td>A002</td>\n",
       "      <td>R051</td>\n",
       "      <td>02-00-00</td>\n",
       "      <td>59 ST</td>\n",
       "      <td>2017-04-01 00:00:00</td>\n",
       "      <td>Saturday</td>\n",
       "      <td>04:00:00</td>\n",
       "      <td>36.0</td>\n",
       "      <td>2017-04-01</td>\n",
       "      <td>NY CITY CENTRAL PARK, NY US</td>\n",
       "      <td>0.0</td>\n",
       "      <td>0.0</td>\n",
       "      <td>0</td>\n",
       "      <td>48</td>\n",
       "      <td>37</td>\n",
       "      <td>0</td>\n",
       "    </tr>\n",
       "    <tr>\n",
       "      <th>1</th>\n",
       "      <td>A002</td>\n",
       "      <td>R051</td>\n",
       "      <td>02-00-00</td>\n",
       "      <td>59 ST</td>\n",
       "      <td>2017-04-01 04:00:00</td>\n",
       "      <td>Saturday</td>\n",
       "      <td>08:00:00</td>\n",
       "      <td>51.0</td>\n",
       "      <td>2017-04-01</td>\n",
       "      <td>NY CITY CENTRAL PARK, NY US</td>\n",
       "      <td>0.0</td>\n",
       "      <td>0.0</td>\n",
       "      <td>0</td>\n",
       "      <td>48</td>\n",
       "      <td>37</td>\n",
       "      <td>0</td>\n",
       "    </tr>\n",
       "    <tr>\n",
       "      <th>2</th>\n",
       "      <td>A002</td>\n",
       "      <td>R051</td>\n",
       "      <td>02-00-00</td>\n",
       "      <td>59 ST</td>\n",
       "      <td>2017-04-01 08:00:00</td>\n",
       "      <td>Saturday</td>\n",
       "      <td>12:00:00</td>\n",
       "      <td>227.0</td>\n",
       "      <td>2017-04-01</td>\n",
       "      <td>NY CITY CENTRAL PARK, NY US</td>\n",
       "      <td>0.0</td>\n",
       "      <td>0.0</td>\n",
       "      <td>0</td>\n",
       "      <td>48</td>\n",
       "      <td>37</td>\n",
       "      <td>0</td>\n",
       "    </tr>\n",
       "    <tr>\n",
       "      <th>3</th>\n",
       "      <td>A002</td>\n",
       "      <td>R051</td>\n",
       "      <td>02-00-00</td>\n",
       "      <td>59 ST</td>\n",
       "      <td>2017-04-01 12:00:00</td>\n",
       "      <td>Saturday</td>\n",
       "      <td>16:00:00</td>\n",
       "      <td>324.0</td>\n",
       "      <td>2017-04-01</td>\n",
       "      <td>NY CITY CENTRAL PARK, NY US</td>\n",
       "      <td>0.0</td>\n",
       "      <td>0.0</td>\n",
       "      <td>0</td>\n",
       "      <td>48</td>\n",
       "      <td>37</td>\n",
       "      <td>0</td>\n",
       "    </tr>\n",
       "    <tr>\n",
       "      <th>4</th>\n",
       "      <td>A002</td>\n",
       "      <td>R051</td>\n",
       "      <td>02-00-00</td>\n",
       "      <td>59 ST</td>\n",
       "      <td>2017-04-01 16:00:00</td>\n",
       "      <td>Saturday</td>\n",
       "      <td>20:00:00</td>\n",
       "      <td>408.0</td>\n",
       "      <td>2017-04-01</td>\n",
       "      <td>NY CITY CENTRAL PARK, NY US</td>\n",
       "      <td>0.0</td>\n",
       "      <td>0.0</td>\n",
       "      <td>0</td>\n",
       "      <td>48</td>\n",
       "      <td>37</td>\n",
       "      <td>0</td>\n",
       "    </tr>\n",
       "  </tbody>\n",
       "</table>\n",
       "</div>"
      ],
      "text/plain": [
       "    C/A  UNIT       SCP STATION            DATETIME       DOW      TIME  \\\n",
       "0  A002  R051  02-00-00   59 ST 2017-04-01 00:00:00  Saturday  04:00:00   \n",
       "1  A002  R051  02-00-00   59 ST 2017-04-01 04:00:00  Saturday  08:00:00   \n",
       "2  A002  R051  02-00-00   59 ST 2017-04-01 08:00:00  Saturday  12:00:00   \n",
       "3  A002  R051  02-00-00   59 ST 2017-04-01 12:00:00  Saturday  16:00:00   \n",
       "4  A002  R051  02-00-00   59 ST 2017-04-01 16:00:00  Saturday  20:00:00   \n",
       "\n",
       "   TOTAL_TRAFFIC        DATE                         NAME  PRCP  SNOW  SNWD  \\\n",
       "0           36.0  2017-04-01  NY CITY CENTRAL PARK, NY US   0.0   0.0     0   \n",
       "1           51.0  2017-04-01  NY CITY CENTRAL PARK, NY US   0.0   0.0     0   \n",
       "2          227.0  2017-04-01  NY CITY CENTRAL PARK, NY US   0.0   0.0     0   \n",
       "3          324.0  2017-04-01  NY CITY CENTRAL PARK, NY US   0.0   0.0     0   \n",
       "4          408.0  2017-04-01  NY CITY CENTRAL PARK, NY US   0.0   0.0     0   \n",
       "\n",
       "   TMAX  TMIN  BAD_WEATHER  \n",
       "0    48    37            0  \n",
       "1    48    37            0  \n",
       "2    48    37            0  \n",
       "3    48    37            0  \n",
       "4    48    37            0  "
      ]
     },
     "execution_count": 16,
     "metadata": {},
     "output_type": "execute_result"
    }
   ],
   "source": [
    "df.head()"
   ]
  },
  {
   "cell_type": "code",
   "execution_count": 17,
   "metadata": {
    "collapsed": true
   },
   "outputs": [],
   "source": [
    "top_stations = top_ten_stations(df)"
   ]
  },
  {
   "cell_type": "code",
   "execution_count": 18,
   "metadata": {
    "collapsed": true
   },
   "outputs": [],
   "source": [
    "#top_stations.drop(['TMIN', 'TMAX'],inplace=True)"
   ]
  },
  {
   "cell_type": "code",
   "execution_count": 19,
   "metadata": {},
   "outputs": [
    {
     "name": "stdout",
     "output_type": "stream",
     "text": [
      "<class 'pandas.core.frame.DataFrame'>\n",
      "Int64Index: 265194 entries, 27855 to 1667011\n",
      "Data columns (total 6 columns):\n",
      "STATION          265194 non-null object\n",
      "DATETIME         265194 non-null datetime64[ns]\n",
      "TOTAL_TRAFFIC    265194 non-null float64\n",
      "DOW              265194 non-null object\n",
      "TIME             265194 non-null object\n",
      "BAD_WEATHER      265194 non-null int64\n",
      "dtypes: datetime64[ns](1), float64(1), int64(1), object(3)\n",
      "memory usage: 11.1+ MB\n"
     ]
    }
   ],
   "source": [
    "top_stations.info()"
   ]
  },
  {
   "cell_type": "code",
   "execution_count": 20,
   "metadata": {
    "collapsed": true
   },
   "outputs": [],
   "source": [
    "def scheduler(day, time, df, weather_forecast=None):\n",
    "    \"\"\"\n",
    "    day = day of deployment\n",
    "    time = time interval of deployment\n",
    "    df = turnstile dataset\n",
    "    weather = {'Precip', 'Normal'}\n",
    "    \n",
    "    Returns: names of top ten stations sorted\n",
    "    by mean total traffic for given day and time interval\n",
    "    \"\"\"\n",
    "    \n",
    "    day_dict = {'Monday':0, \n",
    "                'Tuesday':1, \n",
    "                'Wednesday':2, \n",
    "                'Thursday':3, \n",
    "                'Friday':4}\n",
    "    time_dict = {'Early Morning': \"04:00:00\", \n",
    "                 'Late Morning': \"08:00:00\", \n",
    "                 'Afternoon': \"12:00:00\", \n",
    "                 'Evening':\"16:00:00\", \n",
    "                 'Night':\"20:00:00\"}\n",
    "    weather = None\n",
    "    if weather_forecast == 'Precip':\n",
    "        weather = 1\n",
    "    else:\n",
    "        weather = 0\n",
    "    day_and_time = df[(df['DOW'].str.lower() == day.lower()) &\n",
    "                    (df['TIME'] == time_dict[time]) &\n",
    "                    (df['BAD_WEATHER'] == weather)]\n",
    "    \n",
    "    g = day_and_time.groupby(['TIME', 'DATETIME','STATION'])\\\n",
    "    .sum()\\\n",
    "    .reset_index()\\\n",
    "    .groupby(['TIME', 'STATION'])\\\n",
    "    .mean()\\\n",
    "    .reset_index()\\\n",
    "    .sort_values(by='TOTAL_TRAFFIC', ascending=False)\n",
    "    g['TOTAL_TRAFFIC'] = g['TOTAL_TRAFFIC'].apply(lambda x: round(x))\n",
    "    g = g[['STATION', 'TOTAL_TRAFFIC']].reset_index(drop=True)[:10]\n",
    "    \n",
    "    # Return HTML in cell to display title and table\n",
    "    g.columns = ['Station', 'Average Traffic']\n",
    "    display(HTML(\"<h4>{0} from {1} to {2}</h4>\".format(time, time_dict[time], str(int(time_dict[time][:2]) + 4) + time_dict[time][2:])))\n",
    "    display(HTML(g.to_html()))"
   ]
  },
  {
   "cell_type": "markdown",
   "metadata": {},
   "source": []
  },
  {
   "cell_type": "markdown",
   "metadata": {},
   "source": [
    "# WTWY Street Team Scheduler\n",
    "\n",
    "## Instructions:  \n",
    "\n",
    "* Declare day of the week\n",
    "\n",
    "* List available times:\n",
    "    * Early Morning: 4:00AM - 8:00AM\n",
    "    * Late Morning: 8:00AM - 12:00PM\n",
    "    * Afternoon: 12:00PM - 4:00PM\n",
    "    * Evening: 4:00PM - 8:00PM\n",
    "    * Night: 8:00PM - 12:00AM\n",
    "\n",
    "* Declare weather forecast\n",
    "    * \"Precip\" for rain or snow\n",
    "    * Anything else for non-precipitation weather\n"
   ]
  },
  {
   "cell_type": "code",
   "execution_count": 21,
   "metadata": {},
   "outputs": [
    {
     "data": {
      "text/html": [
       "<h4>Late Morning from 08:00:00 to 12:00:00</h4>"
      ],
      "text/plain": [
       "<IPython.core.display.HTML object>"
      ]
     },
     "metadata": {},
     "output_type": "display_data"
    },
    {
     "data": {
      "text/html": [
       "<table border=\"1\" class=\"dataframe\">\n",
       "  <thead>\n",
       "    <tr style=\"text-align: right;\">\n",
       "      <th></th>\n",
       "      <th>Station</th>\n",
       "      <th>Average Traffic</th>\n",
       "    </tr>\n",
       "  </thead>\n",
       "  <tbody>\n",
       "    <tr>\n",
       "      <th>0</th>\n",
       "      <td>34 ST-PENN STA</td>\n",
       "      <td>46487</td>\n",
       "    </tr>\n",
       "    <tr>\n",
       "      <th>1</th>\n",
       "      <td>42 ST-GRD CNTRL</td>\n",
       "      <td>37713</td>\n",
       "    </tr>\n",
       "    <tr>\n",
       "      <th>2</th>\n",
       "      <td>FULTON ST</td>\n",
       "      <td>36912</td>\n",
       "    </tr>\n",
       "    <tr>\n",
       "      <th>3</th>\n",
       "      <td>42 ST-PORT AUTH</td>\n",
       "      <td>25360</td>\n",
       "    </tr>\n",
       "    <tr>\n",
       "      <th>4</th>\n",
       "      <td>14 ST-UNION SQ</td>\n",
       "      <td>25008</td>\n",
       "    </tr>\n",
       "    <tr>\n",
       "      <th>5</th>\n",
       "      <td>125 ST</td>\n",
       "      <td>19260</td>\n",
       "    </tr>\n",
       "    <tr>\n",
       "      <th>6</th>\n",
       "      <td>86 ST</td>\n",
       "      <td>18665</td>\n",
       "    </tr>\n",
       "    <tr>\n",
       "      <th>7</th>\n",
       "      <td>23 ST</td>\n",
       "      <td>17244</td>\n",
       "    </tr>\n",
       "    <tr>\n",
       "      <th>8</th>\n",
       "      <td>34 ST-HERALD SQ</td>\n",
       "      <td>15090</td>\n",
       "    </tr>\n",
       "    <tr>\n",
       "      <th>9</th>\n",
       "      <td>42 ST-TIMES SQ</td>\n",
       "      <td>12587</td>\n",
       "    </tr>\n",
       "  </tbody>\n",
       "</table>"
      ],
      "text/plain": [
       "<IPython.core.display.HTML object>"
      ]
     },
     "metadata": {},
     "output_type": "display_data"
    }
   ],
   "source": [
    "day = \"Friday\"\n",
    "time = \"Late Morning\"\n",
    "weather = None\n",
    "\n",
    "scheduler(day, time, top_stations, weather_forecast=weather)"
   ]
  },
  {
   "cell_type": "code",
   "execution_count": null,
   "metadata": {
    "collapsed": true
   },
   "outputs": [],
   "source": []
  }
 ],
 "metadata": {
  "kernelspec": {
   "display_name": "Python 3",
   "language": "python",
   "name": "python3"
  },
  "language_info": {
   "codemirror_mode": {
    "name": "ipython",
    "version": 3
   },
   "file_extension": ".py",
   "mimetype": "text/x-python",
   "name": "python",
   "nbconvert_exporter": "python",
   "pygments_lexer": "ipython3",
   "version": "3.6.3"
  }
 },
 "nbformat": 4,
 "nbformat_minor": 2
}
